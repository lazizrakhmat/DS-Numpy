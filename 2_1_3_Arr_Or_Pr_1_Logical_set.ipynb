{
  "nbformat": 4,
  "nbformat_minor": 0,
  "metadata": {
    "colab": {
      "provenance": [],
      "authorship_tag": "ABX9TyOe65Q8wRG2jOxCiIwH7ua5",
      "include_colab_link": true
    },
    "kernelspec": {
      "name": "python3",
      "display_name": "Python 3"
    },
    "language_info": {
      "name": "python"
    }
  },
  "cells": [
    {
      "cell_type": "markdown",
      "metadata": {
        "id": "view-in-github",
        "colab_type": "text"
      },
      "source": [
        "<a href=\"https://colab.research.google.com/github/lazizrakhmat/DS-Numpy/blob/main/2_1_3_Arr_Or_Pr_1_Logical_set.ipynb\" target=\"_parent\"><img src=\"https://colab.research.google.com/assets/colab-badge.svg\" alt=\"Open In Colab\"/></a>"
      ]
    },
    {
      "cell_type": "markdown",
      "source": [
        "\n",
        "# Data Science va Sun'iy Intellekt Praktikum\n",
        "\n",
        "## Ma'lumotlar tahlili. \n",
        "## 2.1. NumPy kutubxonasi bilan ishlash"
      ],
      "metadata": {
        "id": "L5otAvduSdO7"
      }
    },
    {
      "cell_type": "code",
      "execution_count": 1,
      "metadata": {
        "id": "r7jrfKbaSLyE"
      },
      "outputs": [],
      "source": [
        "import numpy as np"
      ]
    },
    {
      "cell_type": "markdown",
      "source": [
        "### 2.1.3. Massivga yo'naltirilgan dasturlash"
      ],
      "metadata": {
        "id": "1759b6uBSm8h"
      }
    },
    {
      "cell_type": "markdown",
      "source": [
        "### Shart operatori sifatida `where` dan foydalanish"
      ],
      "metadata": {
        "id": "BKimZqeGTtOx"
      }
    },
    {
      "cell_type": "markdown",
      "source": [
        "### Tassavur qiling bizda ikkita ma'lumotlar (massivlar) mavjud bular: `xarr` va `yarr`. Agarda shart `True`ni qanoatlantirsa `xarr` elementini qabul qilgan aksincha esa `yarr` elementini qabul qilgan yangi massiv hosil qilinsin."
      ],
      "metadata": {
        "id": "K7mufvYRSqov"
      }
    },
    {
      "cell_type": "code",
      "source": [
        "# Massivlar\n",
        "xarr = np.array([1.1, 1.2, 1.3, 1.4, 1.5]) # xarr\n",
        "yarr = np.array([2.1, 2.2, 2.3, 2.4, 2.5]) # yarr"
      ],
      "metadata": {
        "id": "0LM8vjiESqaZ"
      },
      "execution_count": null,
      "outputs": []
    },
    {
      "cell_type": "code",
      "source": [
        "# Shart\n",
        "cond = np.array([True, False, True, True, False])\n"
      ],
      "metadata": {
        "id": "ruQ65w4bShWU"
      },
      "execution_count": null,
      "outputs": []
    },
    {
      "cell_type": "code",
      "source": [
        "# where\n",
        "result = np.where(cond, xarr, yarr) # cond==True : xarr elementi, cond==False : yarr elementi\n",
        "result"
      ],
      "metadata": {
        "colab": {
          "base_uri": "https://localhost:8080/"
        },
        "id": "g0ow41KnTlit",
        "outputId": "b9a5deac-9fc8-4a24-dd8a-50609ebf84bd"
      },
      "execution_count": null,
      "outputs": [
        {
          "output_type": "execute_result",
          "data": {
            "text/plain": [
              "array([1.1, 2.2, 1.3, 1.4, 2.5])"
            ]
          },
          "metadata": {},
          "execution_count": 6
        }
      ]
    },
    {
      "cell_type": "code",
      "source": [
        "arr = np.random.rand(4, 4) # 4 ga 4 o'lchamli taxminiy elementlar, massiv\n",
        "arr"
      ],
      "metadata": {
        "colab": {
          "base_uri": "https://localhost:8080/"
        },
        "id": "xY683RUTUCI4",
        "outputId": "ed8ab1ef-b8a4-42b5-a327-bfbf2dd97db8"
      },
      "execution_count": null,
      "outputs": [
        {
          "output_type": "execute_result",
          "data": {
            "text/plain": [
              "array([[0.63266279, 0.83709457, 0.5703425 , 0.16839113],\n",
              "       [0.67245949, 0.83536189, 0.65077167, 0.69235085],\n",
              "       [0.46233924, 0.33039661, 0.91484058, 0.7858841 ],\n",
              "       [0.54424383, 0.10408241, 0.81929967, 0.67444948]])"
            ]
          },
          "metadata": {},
          "execution_count": 8
        }
      ]
    },
    {
      "cell_type": "code",
      "source": [
        "# where \n",
        "results = np.where(arr<0, -2, 2) # arr ning manfiy elementlarini -2 ga musbat elementlarini es 2 ga almashtirish\n",
        "results"
      ],
      "metadata": {
        "colab": {
          "base_uri": "https://localhost:8080/"
        },
        "id": "TSTslHAWURSn",
        "outputId": "bdfb3771-0010-4dda-b120-785d617b6bbf"
      },
      "execution_count": null,
      "outputs": [
        {
          "output_type": "execute_result",
          "data": {
            "text/plain": [
              "array([[2, 2, 2, 2],\n",
              "       [2, 2, 2, 2],\n",
              "       [2, 2, 2, 2],\n",
              "       [2, 2, 2, 2]])"
            ]
          },
          "metadata": {},
          "execution_count": 9
        }
      ]
    },
    {
      "cell_type": "markdown",
      "source": [
        "## Arifmetik amallar\n",
        "\n",
        "Kopaytirish, bo'lish, qo'shish, ayirish va h.k amallar"
      ],
      "metadata": {
        "id": "fcjZ5Gv2NiKc"
      }
    },
    {
      "cell_type": "code",
      "source": [
        "#data \n",
        "arr1 = np.arange(6).reshape(2, 3) # 0~6 gacha elementlardan tashkil topgan array\n",
        "arr2 = np.arange(6, 12).reshape(2, 3) # 6~11 gacha bo'lgan elementlardan tashkil topgan array\n",
        "arr2"
      ],
      "metadata": {
        "id": "dgSE65hIUqEm",
        "outputId": "1074d30e-a2fe-49ab-b206-a84bfb900408",
        "colab": {
          "base_uri": "https://localhost:8080/"
        }
      },
      "execution_count": 2,
      "outputs": [
        {
          "output_type": "execute_result",
          "data": {
            "text/plain": [
              "array([[ 6,  7,  8],\n",
              "       [ 9, 10, 11]])"
            ]
          },
          "metadata": {},
          "execution_count": 2
        }
      ]
    },
    {
      "cell_type": "code",
      "source": [
        "arr1"
      ],
      "metadata": {
        "id": "Jci5Hm6_Oex8",
        "outputId": "10c487f4-2dfb-4075-85a0-ec8ac57f4bc8",
        "colab": {
          "base_uri": "https://localhost:8080/"
        }
      },
      "execution_count": 3,
      "outputs": [
        {
          "output_type": "execute_result",
          "data": {
            "text/plain": [
              "array([[0, 1, 2],\n",
              "       [3, 4, 5]])"
            ]
          },
          "metadata": {},
          "execution_count": 3
        }
      ]
    },
    {
      "cell_type": "code",
      "source": [
        "# Ko'paytirish\n",
        "arr1 * arr2 # arr1 ning elementlarini arr2 elementlariga ko'paytirib beradi"
      ],
      "metadata": {
        "id": "jpNiXMNKOfs-",
        "outputId": "c3b2862f-cc70-454c-805b-259acd6172f4",
        "colab": {
          "base_uri": "https://localhost:8080/"
        }
      },
      "execution_count": 4,
      "outputs": [
        {
          "output_type": "execute_result",
          "data": {
            "text/plain": [
              "array([[ 0,  7, 16],\n",
              "       [27, 40, 55]])"
            ]
          },
          "metadata": {},
          "execution_count": 4
        }
      ]
    },
    {
      "cell_type": "code",
      "source": [
        "# Bo'lish \n",
        "arr2/arr1 # arr1 ning elementlarini arr2 ning mos elementlariga bo'lib beradi"
      ],
      "metadata": {
        "id": "ULNxd0KDOz2I",
        "outputId": "ef8e817f-eddf-4db7-9ac1-2c956533d796",
        "colab": {
          "base_uri": "https://localhost:8080/"
        }
      },
      "execution_count": 5,
      "outputs": [
        {
          "output_type": "stream",
          "name": "stderr",
          "text": [
            "<ipython-input-5-3cd8b7fd3075>:2: RuntimeWarning: divide by zero encountered in true_divide\n",
            "  arr2/arr1 # arr1 ning elementlarini arr2 ning mos elementlariga bo'lib beradi\n"
          ]
        },
        {
          "output_type": "execute_result",
          "data": {
            "text/plain": [
              "array([[inf, 7. , 4. ],\n",
              "       [3. , 2.5, 2.2]])"
            ]
          },
          "metadata": {},
          "execution_count": 5
        }
      ]
    },
    {
      "cell_type": "code",
      "source": [
        "# Qo'shish\n",
        "arr1 + arr2 "
      ],
      "metadata": {
        "id": "DVbmqUKcPMHh",
        "outputId": "03c3d890-827b-408e-bba6-7a3bba437bb8",
        "colab": {
          "base_uri": "https://localhost:8080/"
        }
      },
      "execution_count": 6,
      "outputs": [
        {
          "output_type": "execute_result",
          "data": {
            "text/plain": [
              "array([[ 6,  8, 10],\n",
              "       [12, 14, 16]])"
            ]
          },
          "metadata": {},
          "execution_count": 6
        }
      ]
    },
    {
      "cell_type": "code",
      "source": [
        "# Ayirish\n",
        "arr2 - arr1 # arr2 ning arr1 ning mos elementlaridan ayirish"
      ],
      "metadata": {
        "id": "5HuiWZyYPcnZ",
        "outputId": "09b6adf1-e8b5-4543-8def-a22f4cd749f9",
        "colab": {
          "base_uri": "https://localhost:8080/"
        }
      },
      "execution_count": 7,
      "outputs": [
        {
          "output_type": "execute_result",
          "data": {
            "text/plain": [
              "array([[6, 6, 6],\n",
              "       [6, 6, 6]])"
            ]
          },
          "metadata": {},
          "execution_count": 7
        }
      ]
    },
    {
      "cell_type": "code",
      "source": [
        "# Kvadrat oshsirish (square)\n",
        "arr2**2 "
      ],
      "metadata": {
        "id": "MTtfRHp6PoCR",
        "outputId": "b4aa6631-ce53-48fe-c841-3495f6c2d37d",
        "colab": {
          "base_uri": "https://localhost:8080/"
        }
      },
      "execution_count": 8,
      "outputs": [
        {
          "output_type": "execute_result",
          "data": {
            "text/plain": [
              "array([[ 36,  49,  64],\n",
              "       [ 81, 100, 121]])"
            ]
          },
          "metadata": {},
          "execution_count": 8
        }
      ]
    },
    {
      "cell_type": "code",
      "source": [
        "# Kvadrat ildizdan (sqrt)\n",
        "arr2**0.5"
      ],
      "metadata": {
        "id": "tEjghW3RPyYI",
        "outputId": "1cafc19d-7046-4af1-b988-c4215c52e0eb",
        "colab": {
          "base_uri": "https://localhost:8080/"
        }
      },
      "execution_count": 9,
      "outputs": [
        {
          "output_type": "execute_result",
          "data": {
            "text/plain": [
              "array([[2.44948974, 2.64575131, 2.82842712],\n",
              "       [3.        , 3.16227766, 3.31662479]])"
            ]
          },
          "metadata": {},
          "execution_count": 9
        }
      ]
    }
  ]
}