{
  "nbformat": 4,
  "nbformat_minor": 0,
  "metadata": {
    "colab": {
      "provenance": [],
      "authorship_tag": "ABX9TyOz/TGFKVlw/w4YF5pTjpLe",
      "include_colab_link": true
    },
    "kernelspec": {
      "name": "python3",
      "display_name": "Python 3"
    },
    "language_info": {
      "name": "python"
    }
  },
  "cells": [
    {
      "cell_type": "markdown",
      "metadata": {
        "id": "view-in-github",
        "colab_type": "text"
      },
      "source": [
        "<a href=\"https://colab.research.google.com/github/lazizrakhmat/DS-Numpy/blob/main/2_1_3_Arr_Or_Pr_1_Logical_set.ipynb\" target=\"_parent\"><img src=\"https://colab.research.google.com/assets/colab-badge.svg\" alt=\"Open In Colab\"/></a>"
      ]
    },
    {
      "cell_type": "markdown",
      "source": [
        "\n",
        "# Data Science va Sun'iy Intellekt Praktikum\n",
        "\n",
        "## Ma'lumotlar tahlili. \n",
        "## 2.1. NumPy kutubxonasi bilan ishlash"
      ],
      "metadata": {
        "id": "L5otAvduSdO7"
      }
    },
    {
      "cell_type": "code",
      "execution_count": 2,
      "metadata": {
        "id": "r7jrfKbaSLyE"
      },
      "outputs": [],
      "source": [
        "import numpy as np"
      ]
    },
    {
      "cell_type": "markdown",
      "source": [
        "### 2.1.3. Massivga yo'naltirilgan dasturlash"
      ],
      "metadata": {
        "id": "1759b6uBSm8h"
      }
    },
    {
      "cell_type": "markdown",
      "source": [
        "### Shart operatori sifatida `where` dan foydalanish"
      ],
      "metadata": {
        "id": "BKimZqeGTtOx"
      }
    },
    {
      "cell_type": "markdown",
      "source": [
        "### Tassavur qiling bizda ikkita ma'lumotlar (massivlar) mavjud bular: `xarr` va `yarr`. Agarda shart `True`ni qanoatlantirsa `xarr` elementini qabul qilgan aksincha esa `yarr` elementini qabul qilgan yangi massiv hosil qilinsin."
      ],
      "metadata": {
        "id": "K7mufvYRSqov"
      }
    },
    {
      "cell_type": "code",
      "source": [
        "# Massivlar\n",
        "xarr = np.array([1.1, 1.2, 1.3, 1.4, 1.5]) # xarr\n",
        "yarr = np.array([2.1, 2.2, 2.3, 2.4, 2.5]) # yarr"
      ],
      "metadata": {
        "id": "0LM8vjiESqaZ"
      },
      "execution_count": 4,
      "outputs": []
    },
    {
      "cell_type": "code",
      "source": [
        "# Shart\n",
        "cond = np.array([True, False, True, True, False])\n"
      ],
      "metadata": {
        "id": "ruQ65w4bShWU"
      },
      "execution_count": 5,
      "outputs": []
    },
    {
      "cell_type": "code",
      "source": [
        "# where\n",
        "result = np.where(cond, xarr, yarr) # cond==True : xarr elementi, cond==False : yarr elementi\n",
        "result"
      ],
      "metadata": {
        "colab": {
          "base_uri": "https://localhost:8080/"
        },
        "id": "g0ow41KnTlit",
        "outputId": "b9a5deac-9fc8-4a24-dd8a-50609ebf84bd"
      },
      "execution_count": 6,
      "outputs": [
        {
          "output_type": "execute_result",
          "data": {
            "text/plain": [
              "array([1.1, 2.2, 1.3, 1.4, 2.5])"
            ]
          },
          "metadata": {},
          "execution_count": 6
        }
      ]
    },
    {
      "cell_type": "code",
      "source": [
        "arr = np.random.rand(4, 4) # 4 ga 4 o'lchamli taxminiy elementlar, massiv\n",
        "arr"
      ],
      "metadata": {
        "colab": {
          "base_uri": "https://localhost:8080/"
        },
        "id": "xY683RUTUCI4",
        "outputId": "ed8ab1ef-b8a4-42b5-a327-bfbf2dd97db8"
      },
      "execution_count": 8,
      "outputs": [
        {
          "output_type": "execute_result",
          "data": {
            "text/plain": [
              "array([[0.63266279, 0.83709457, 0.5703425 , 0.16839113],\n",
              "       [0.67245949, 0.83536189, 0.65077167, 0.69235085],\n",
              "       [0.46233924, 0.33039661, 0.91484058, 0.7858841 ],\n",
              "       [0.54424383, 0.10408241, 0.81929967, 0.67444948]])"
            ]
          },
          "metadata": {},
          "execution_count": 8
        }
      ]
    },
    {
      "cell_type": "code",
      "source": [
        "# where \n",
        "results = np.where(arr<0, -2, 2) # arr ning manfiy elementlarini -2 ga musbat elementlarini es 2 ga almashtirish\n",
        "results"
      ],
      "metadata": {
        "colab": {
          "base_uri": "https://localhost:8080/"
        },
        "id": "TSTslHAWURSn",
        "outputId": "bdfb3771-0010-4dda-b120-785d617b6bbf"
      },
      "execution_count": 9,
      "outputs": [
        {
          "output_type": "execute_result",
          "data": {
            "text/plain": [
              "array([[2, 2, 2, 2],\n",
              "       [2, 2, 2, 2],\n",
              "       [2, 2, 2, 2],\n",
              "       [2, 2, 2, 2]])"
            ]
          },
          "metadata": {},
          "execution_count": 9
        }
      ]
    },
    {
      "cell_type": "code",
      "source": [],
      "metadata": {
        "id": "dgSE65hIUqEm"
      },
      "execution_count": null,
      "outputs": []
    }
  ]
}