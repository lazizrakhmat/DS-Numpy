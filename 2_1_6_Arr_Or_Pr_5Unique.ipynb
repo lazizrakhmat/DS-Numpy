{
  "nbformat": 4,
  "nbformat_minor": 0,
  "metadata": {
    "colab": {
      "provenance": [],
      "authorship_tag": "ABX9TyOuwkOvMAKaWzO+OuDjkplD",
      "include_colab_link": true
    },
    "kernelspec": {
      "name": "python3",
      "display_name": "Python 3"
    },
    "language_info": {
      "name": "python"
    }
  },
  "cells": [
    {
      "cell_type": "markdown",
      "metadata": {
        "id": "view-in-github",
        "colab_type": "text"
      },
      "source": [
        "<a href=\"https://colab.research.google.com/github/lazizrakhmat/DS-Numpy/blob/main/2_1_6_Arr_Or_Pr_5Unique.ipynb\" target=\"_parent\"><img src=\"https://colab.research.google.com/assets/colab-badge.svg\" alt=\"Open In Colab\"/></a>"
      ]
    },
    {
      "cell_type": "markdown",
      "source": [
        "# Data Science va Sun'iy Intellekt Praktikum\n",
        "\n",
        "## Ma'lumotlar tahlili. \n",
        "## 2.1. NumPy kutubxonasi bilan ishlash"
      ],
      "metadata": {
        "id": "Hfj8OKsK5ffS"
      }
    },
    {
      "cell_type": "code",
      "execution_count": 31,
      "metadata": {
        "id": "JoMsWj_t5dyM"
      },
      "outputs": [],
      "source": [
        "import numpy as np"
      ]
    },
    {
      "cell_type": "markdown",
      "source": [
        "## ```unique``` va ```in1d``` ```setdiff1d``` va boshqa usullari haqida"
      ],
      "metadata": {
        "id": "NmHnq82KEBEu"
      }
    },
    {
      "cell_type": "code",
      "source": [
        "# data\n",
        "names = np.array(['Sarvar', 'Abdurahmon', 'Hasan',  'Temur', 'Sarvar', 'Temur'])\n",
        "ints = np.array([3, 3, 3, 2, 2, 1, 1, 4, 4])"
      ],
      "metadata": {
        "id": "6MEifargEblG"
      },
      "execution_count": 32,
      "outputs": []
    },
    {
      "cell_type": "code",
      "source": [
        "# unique\n",
        "np.unique(names) # names dagi takrorlanmas elementlarni qaytaradi (takrorlansaham faqat bittasini qabul qiladi)\n"
      ],
      "metadata": {
        "colab": {
          "base_uri": "https://localhost:8080/"
        },
        "id": "d0YB7c5mEsFF",
        "outputId": "071bc348-02b9-4363-a4dc-e3a9b4a36b3c"
      },
      "execution_count": 33,
      "outputs": [
        {
          "output_type": "execute_result",
          "data": {
            "text/plain": [
              "array(['Abdurahmon', 'Hasan', 'Sarvar', 'Temur'], dtype='<U10')"
            ]
          },
          "metadata": {},
          "execution_count": 33
        }
      ]
    },
    {
      "cell_type": "code",
      "source": [
        "# unique with number\n",
        "np.unique(ints)"
      ],
      "metadata": {
        "colab": {
          "base_uri": "https://localhost:8080/"
        },
        "id": "YZKIdMHNE8CH",
        "outputId": "c9dafce3-f553-47db-d741-42a85594ff7f"
      },
      "execution_count": 34,
      "outputs": [
        {
          "output_type": "execute_result",
          "data": {
            "text/plain": [
              "array([1, 2, 3, 4])"
            ]
          },
          "metadata": {},
          "execution_count": 34
        }
      ]
    },
    {
      "cell_type": "code",
      "source": [
        "# set\n",
        "set(names) # names fagi unique(takrorlanmas) elementlarni qaytradi"
      ],
      "metadata": {
        "colab": {
          "base_uri": "https://localhost:8080/"
        },
        "id": "iyiXAWebFFFZ",
        "outputId": "f922ceed-857a-4949-dbcb-906ad41acec5"
      },
      "execution_count": 35,
      "outputs": [
        {
          "output_type": "execute_result",
          "data": {
            "text/plain": [
              "{'Abdurahmon', 'Hasan', 'Sarvar', 'Temur'}"
            ]
          },
          "metadata": {},
          "execution_count": 35
        }
      ]
    },
    {
      "cell_type": "code",
      "source": [
        "# data\n",
        "arr1 = np.array([6, 0, 0, 3, 2, 5, 6])\n",
        "arr2 = np.array([0, 2, 3])"
      ],
      "metadata": {
        "id": "bhWaKDrIFjR9"
      },
      "execution_count": 36,
      "outputs": []
    },
    {
      "cell_type": "code",
      "source": [
        "np.in1d(arr1, arr2) # arr2 dagi elementlarni arr1 da mavjudligini tekshirish\n"
      ],
      "metadata": {
        "colab": {
          "base_uri": "https://localhost:8080/"
        },
        "id": "WSAIPOFGFscF",
        "outputId": "2dff3389-e14a-4846-8387-37eceeb5c7d3"
      },
      "execution_count": 37,
      "outputs": [
        {
          "output_type": "execute_result",
          "data": {
            "text/plain": [
              "array([False,  True,  True,  True,  True, False, False])"
            ]
          },
          "metadata": {},
          "execution_count": 37
        }
      ]
    },
    {
      "cell_type": "markdown",
      "source": [
        "```setdiff1d``` usuli haqida"
      ],
      "metadata": {
        "id": "w_SUGY4PF8Qw"
      }
    },
    {
      "cell_type": "code",
      "source": [
        "# data\n",
        "names1 = np.array(['Jasur', 'Abdurahmon', 'Hasan',  'Muhammad', 'Sarvar', 'Temur'])\n",
        "names2 = np.array(['Sarvar', 'Abdurahmon', 'Hasan',  'Temur', 'Sarvar', 'Temur'])"
      ],
      "metadata": {
        "id": "Nwj_hvV5FudI"
      },
      "execution_count": 38,
      "outputs": []
    },
    {
      "cell_type": "code",
      "source": [
        "np.setdiff1d(names1, names2) # names1 massivning takrorlanmas qismini qaytaradi"
      ],
      "metadata": {
        "colab": {
          "base_uri": "https://localhost:8080/"
        },
        "id": "yyGhapQRGMRx",
        "outputId": "aa83f296-9f95-47b8-8af9-654231d66afa"
      },
      "execution_count": 39,
      "outputs": [
        {
          "output_type": "execute_result",
          "data": {
            "text/plain": [
              "array(['Jasur', 'Muhammad'], dtype='<U10')"
            ]
          },
          "metadata": {},
          "execution_count": 39
        }
      ]
    }
  ]
}