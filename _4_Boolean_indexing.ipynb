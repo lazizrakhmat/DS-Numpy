{
  "nbformat": 4,
  "nbformat_minor": 0,
  "metadata": {
    "colab": {
      "provenance": [],
      "authorship_tag": "ABX9TyOk2ov5/V/gyMn0uBGK28r9",
      "include_colab_link": true
    },
    "kernelspec": {
      "name": "python3",
      "display_name": "Python 3"
    },
    "language_info": {
      "name": "python"
    }
  },
  "cells": [
    {
      "cell_type": "markdown",
      "metadata": {
        "id": "view-in-github",
        "colab_type": "text"
      },
      "source": [
        "<a href=\"https://colab.research.google.com/github/rakhmatAI/DataScience_numpy/blob/main/_4_Boolean_indexing.ipynb\" target=\"_parent\"><img src=\"https://colab.research.google.com/assets/colab-badge.svg\" alt=\"Open In Colab\"/></a>"
      ]
    },
    {
      "cell_type": "markdown",
      "source": [
        "# Data Science va Sun'iy Intellekt Praktikum\n",
        "\n",
        "## Ma'lumotlar tahlili. \n",
        "## 2.1. NumPy kutubxonasi bilan ishlash"
      ],
      "metadata": {
        "id": "eMHP4dONDc8p"
      }
    },
    {
      "cell_type": "code",
      "execution_count": 1,
      "metadata": {
        "id": "EFnQGy_rDZF3"
      },
      "outputs": [],
      "source": [
        "import numpy as np"
      ]
    },
    {
      "cell_type": "code",
      "source": [
        "# Ismlar\n",
        "names = np.array(['Hasan', 'Husan', 'Mirzabek', 'Elyor', 'Hasan', 'Javohir', 'Elyor'])\n",
        "names"
      ],
      "metadata": {
        "colab": {
          "base_uri": "https://localhost:8080/"
        },
        "id": "pLN_tEn8Dguv",
        "outputId": "9aa9d4c3-a949-4baa-833f-71ce262d492a"
      },
      "execution_count": 3,
      "outputs": [
        {
          "output_type": "execute_result",
          "data": {
            "text/plain": [
              "array(['Hasan', 'Husan', 'Mirzabek', 'Elyor', 'Hasan', 'Javohir', 'Elyor'],\n",
              "      dtype='<U8')"
            ]
          },
          "metadata": {},
          "execution_count": 3
        }
      ]
    },
    {
      "cell_type": "code",
      "source": [
        "# data\n",
        "data = np.random.rand(7, 4)\n",
        "data"
      ],
      "metadata": {
        "colab": {
          "base_uri": "https://localhost:8080/"
        },
        "id": "iVwitWtIDzrf",
        "outputId": "7399a81a-2575-4d1e-ee17-0d787ebf8f04"
      },
      "execution_count": 5,
      "outputs": [
        {
          "output_type": "execute_result",
          "data": {
            "text/plain": [
              "array([[0.78954264, 0.92463015, 0.73821613, 0.97255602],\n",
              "       [0.72600676, 0.58212415, 0.06668968, 0.88516983],\n",
              "       [0.12576639, 0.91849839, 0.02873008, 0.41883383],\n",
              "       [0.50445763, 0.15642633, 0.72562352, 0.9226235 ],\n",
              "       [0.86281267, 0.08762724, 0.4510818 , 0.72738057],\n",
              "       [0.73487126, 0.77848678, 0.38018525, 0.11401359],\n",
              "       [0.60869199, 0.722904  , 0.8482773 , 0.25323092]])"
            ]
          },
          "metadata": {},
          "execution_count": 5
        }
      ]
    },
    {
      "cell_type": "code",
      "source": [
        "names == 'Hasan'\n"
      ],
      "metadata": {
        "colab": {
          "base_uri": "https://localhost:8080/"
        },
        "id": "ASP-_vkiD_6j",
        "outputId": "6e0deeef-dc52-489a-bbf7-faf8324ba76a"
      },
      "execution_count": 6,
      "outputs": [
        {
          "output_type": "execute_result",
          "data": {
            "text/plain": [
              "array([ True, False, False, False,  True, False, False])"
            ]
          },
          "metadata": {},
          "execution_count": 6
        }
      ]
    },
    {
      "cell_type": "code",
      "source": [
        "data[names == 'Hasan'] # Hasanga tegishli barcha ma'lumotlarni ajratib olish"
      ],
      "metadata": {
        "colab": {
          "base_uri": "https://localhost:8080/"
        },
        "id": "SVcIOX7GEY-H",
        "outputId": "dfbfcbc9-0c7c-4b65-f6dc-0c201a69d5a1"
      },
      "execution_count": 7,
      "outputs": [
        {
          "output_type": "execute_result",
          "data": {
            "text/plain": [
              "array([[0.78954264, 0.92463015, 0.73821613, 0.97255602],\n",
              "       [0.86281267, 0.08762724, 0.4510818 , 0.72738057]])"
            ]
          },
          "metadata": {},
          "execution_count": 7
        }
      ]
    },
    {
      "cell_type": "code",
      "source": [
        "data[names == 'Elyor'] # Elyorga tegishli barcha ma'lumotlarni ajratib olish"
      ],
      "metadata": {
        "colab": {
          "base_uri": "https://localhost:8080/"
        },
        "id": "1YT4gTZTEza7",
        "outputId": "944af37f-0551-42d1-ecf0-23ccf18e2862"
      },
      "execution_count": 8,
      "outputs": [
        {
          "output_type": "execute_result",
          "data": {
            "text/plain": [
              "array([[0.50445763, 0.15642633, 0.72562352, 0.9226235 ],\n",
              "       [0.60869199, 0.722904  , 0.8482773 , 0.25323092]])"
            ]
          },
          "metadata": {},
          "execution_count": 8
        }
      ]
    },
    {
      "cell_type": "code",
      "source": [
        "data[names == 'Hasan', 2:] # H tegishli oxirgi ikkita ustundagi ma'lumotlarni ajratib olish"
      ],
      "metadata": {
        "colab": {
          "base_uri": "https://localhost:8080/"
        },
        "id": "Ki1kgOjFE_6x",
        "outputId": "665f9064-bf14-423f-bbd7-6134de3a013b"
      },
      "execution_count": 9,
      "outputs": [
        {
          "output_type": "execute_result",
          "data": {
            "text/plain": [
              "array([[0.73821613, 0.97255602],\n",
              "       [0.4510818 , 0.72738057]])"
            ]
          },
          "metadata": {},
          "execution_count": 9
        }
      ]
    },
    {
      "cell_type": "code",
      "source": [
        "data[names != 'Hasan'] # (!=) H dan tashqari barcha insonlarning ma'lumotlarini olish"
      ],
      "metadata": {
        "colab": {
          "base_uri": "https://localhost:8080/"
        },
        "id": "FntxlyhtFipM",
        "outputId": "69d4bef6-6c4b-4482-c9fb-75c084211f4e"
      },
      "execution_count": 11,
      "outputs": [
        {
          "output_type": "execute_result",
          "data": {
            "text/plain": [
              "array([[0.72600676, 0.58212415, 0.06668968, 0.88516983],\n",
              "       [0.12576639, 0.91849839, 0.02873008, 0.41883383],\n",
              "       [0.50445763, 0.15642633, 0.72562352, 0.9226235 ],\n",
              "       [0.73487126, 0.77848678, 0.38018525, 0.11401359],\n",
              "       [0.60869199, 0.722904  , 0.8482773 , 0.25323092]])"
            ]
          },
          "metadata": {},
          "execution_count": 11
        }
      ]
    },
    {
      "cell_type": "code",
      "source": [
        "data[~(names == 'Hasan')] # (~)"
      ],
      "metadata": {
        "colab": {
          "base_uri": "https://localhost:8080/"
        },
        "id": "eJIeBtNQFpbi",
        "outputId": "51cb6f3b-e00e-4300-e2d6-b8053c57122c"
      },
      "execution_count": 12,
      "outputs": [
        {
          "output_type": "execute_result",
          "data": {
            "text/plain": [
              "array([[0.72600676, 0.58212415, 0.06668968, 0.88516983],\n",
              "       [0.12576639, 0.91849839, 0.02873008, 0.41883383],\n",
              "       [0.50445763, 0.15642633, 0.72562352, 0.9226235 ],\n",
              "       [0.73487126, 0.77848678, 0.38018525, 0.11401359],\n",
              "       [0.60869199, 0.722904  , 0.8482773 , 0.25323092]])"
            ]
          },
          "metadata": {},
          "execution_count": 12
        }
      ]
    },
    {
      "cell_type": "code",
      "source": [
        "print(names)\n",
        "print(data)"
      ],
      "metadata": {
        "colab": {
          "base_uri": "https://localhost:8080/"
        },
        "id": "prKGJsCnF-oZ",
        "outputId": "954425c7-272e-4a60-fb82-44ef61ef45ca"
      },
      "execution_count": 13,
      "outputs": [
        {
          "output_type": "stream",
          "name": "stdout",
          "text": [
            "['Hasan' 'Husan' 'Mirzabek' 'Elyor' 'Hasan' 'Javohir' 'Elyor']\n",
            "[[0.78954264 0.92463015 0.73821613 0.97255602]\n",
            " [0.72600676 0.58212415 0.06668968 0.88516983]\n",
            " [0.12576639 0.91849839 0.02873008 0.41883383]\n",
            " [0.50445763 0.15642633 0.72562352 0.9226235 ]\n",
            " [0.86281267 0.08762724 0.4510818  0.72738057]\n",
            " [0.73487126 0.77848678 0.38018525 0.11401359]\n",
            " [0.60869199 0.722904   0.8482773  0.25323092]]\n"
          ]
        }
      ]
    },
    {
      "cell_type": "code",
      "source": [
        "mask = (names == 'Hasan') | (names == 'Husan') # \"|\" or (yoki)\n",
        "mask "
      ],
      "metadata": {
        "colab": {
          "base_uri": "https://localhost:8080/"
        },
        "id": "EjH_e6QwGMys",
        "outputId": "4c487631-ddab-4ecc-dd9c-ae2619473307"
      },
      "execution_count": 15,
      "outputs": [
        {
          "output_type": "execute_result",
          "data": {
            "text/plain": [
              "array([ True,  True, False, False,  True, False, False])"
            ]
          },
          "metadata": {},
          "execution_count": 15
        }
      ]
    },
    {
      "cell_type": "code",
      "source": [
        "data[mask] # Hasan va Husanga tegishli ma'lumotlarni ajratib olish"
      ],
      "metadata": {
        "colab": {
          "base_uri": "https://localhost:8080/"
        },
        "id": "n6CnEkCbGYhP",
        "outputId": "fa6de0c1-98f6-41c1-abae-c093f215a0f4"
      },
      "execution_count": 16,
      "outputs": [
        {
          "output_type": "execute_result",
          "data": {
            "text/plain": [
              "array([[0.78954264, 0.92463015, 0.73821613, 0.97255602],\n",
              "       [0.72600676, 0.58212415, 0.06668968, 0.88516983],\n",
              "       [0.86281267, 0.08762724, 0.4510818 , 0.72738057]])"
            ]
          },
          "metadata": {},
          "execution_count": 16
        }
      ]
    },
    {
      "cell_type": "code",
      "source": [
        "data"
      ],
      "metadata": {
        "colab": {
          "base_uri": "https://localhost:8080/"
        },
        "id": "gZOO9hlcGpvZ",
        "outputId": "d1de32aa-59cb-43c1-d51e-eb09f43f5560"
      },
      "execution_count": 17,
      "outputs": [
        {
          "output_type": "execute_result",
          "data": {
            "text/plain": [
              "array([[0.78954264, 0.92463015, 0.73821613, 0.97255602],\n",
              "       [0.72600676, 0.58212415, 0.06668968, 0.88516983],\n",
              "       [0.12576639, 0.91849839, 0.02873008, 0.41883383],\n",
              "       [0.50445763, 0.15642633, 0.72562352, 0.9226235 ],\n",
              "       [0.86281267, 0.08762724, 0.4510818 , 0.72738057],\n",
              "       [0.73487126, 0.77848678, 0.38018525, 0.11401359],\n",
              "       [0.60869199, 0.722904  , 0.8482773 , 0.25323092]])"
            ]
          },
          "metadata": {},
          "execution_count": 17
        }
      ]
    },
    {
      "cell_type": "code",
      "source": [
        "data[data<0]=0\n",
        "data"
      ],
      "metadata": {
        "colab": {
          "base_uri": "https://localhost:8080/"
        },
        "id": "Mbzs2vDIGtfu",
        "outputId": "70fdbdec-5b9d-44a6-ef0b-121dfec56972"
      },
      "execution_count": 20,
      "outputs": [
        {
          "output_type": "execute_result",
          "data": {
            "text/plain": [
              "array([[0.78954264, 0.92463015, 0.73821613, 0.97255602],\n",
              "       [0.72600676, 0.58212415, 0.06668968, 0.88516983],\n",
              "       [0.12576639, 0.91849839, 0.02873008, 0.41883383],\n",
              "       [0.50445763, 0.15642633, 0.72562352, 0.9226235 ],\n",
              "       [0.86281267, 0.08762724, 0.4510818 , 0.72738057],\n",
              "       [0.73487126, 0.77848678, 0.38018525, 0.11401359],\n",
              "       [0.60869199, 0.722904  , 0.8482773 , 0.25323092]])"
            ]
          },
          "metadata": {},
          "execution_count": 20
        }
      ]
    },
    {
      "cell_type": "code",
      "source": [],
      "metadata": {
        "id": "bHk3Z_CcGzKy"
      },
      "execution_count": null,
      "outputs": []
    }
  ]
}