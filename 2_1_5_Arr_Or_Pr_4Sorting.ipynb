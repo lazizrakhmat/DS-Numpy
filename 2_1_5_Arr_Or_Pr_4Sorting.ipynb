{
  "nbformat": 4,
  "nbformat_minor": 0,
  "metadata": {
    "colab": {
      "provenance": [],
      "authorship_tag": "ABX9TyPzVJCnurDtv4vUZu8D0YFp",
      "include_colab_link": true
    },
    "kernelspec": {
      "name": "python3",
      "display_name": "Python 3"
    },
    "language_info": {
      "name": "python"
    }
  },
  "cells": [
    {
      "cell_type": "markdown",
      "metadata": {
        "id": "view-in-github",
        "colab_type": "text"
      },
      "source": [
        "<a href=\"https://colab.research.google.com/github/lazizrakhmat/DS-Numpy/blob/main/2_1_5_Arr_Or_Pr_4Sorting.ipynb\" target=\"_parent\"><img src=\"https://colab.research.google.com/assets/colab-badge.svg\" alt=\"Open In Colab\"/></a>"
      ]
    },
    {
      "cell_type": "markdown",
      "source": [
        "# Data Science va Sun'iy Intellekt Praktikum\n",
        "\n",
        "## Ma'lumotlar tahlili. \n",
        "## 2.1. NumPy kutubxonasi bilan ishlash"
      ],
      "metadata": {
        "id": "Hfj8OKsK5ffS"
      }
    },
    {
      "cell_type": "code",
      "execution_count": 1,
      "metadata": {
        "id": "JoMsWj_t5dyM"
      },
      "outputs": [],
      "source": [
        "import numpy as np"
      ]
    },
    {
      "cell_type": "markdown",
      "source": [
        "### 2.1.3. Massivga yo'naltirilgan dasturlash\n",
        "\n",
        "### Tartiblash (`Sorting`)"
      ],
      "metadata": {
        "id": "_eLKCoOC6acP"
      }
    },
    {
      "cell_type": "code",
      "source": [
        "# data\n",
        "arr = np.random.rand(4) # ta taxminiy elementlardan tashkil topgan massiv\n",
        "arr"
      ],
      "metadata": {
        "colab": {
          "base_uri": "https://localhost:8080/"
        },
        "id": "nvjxErWB_bSd",
        "outputId": "88a8a24e-9154-46f5-caee-e97359a057bf"
      },
      "execution_count": 18,
      "outputs": [
        {
          "output_type": "execute_result",
          "data": {
            "text/plain": [
              "array([0.31169484, 0.60677123, 0.71700788, 0.69256857])"
            ]
          },
          "metadata": {},
          "execution_count": 18
        }
      ]
    },
    {
      "cell_type": "markdown",
      "source": [
        "## ```sort```funksiyasi"
      ],
      "metadata": {
        "id": "rVn8SowaAQDd"
      }
    },
    {
      "cell_type": "code",
      "source": [
        "sorted_arr = np.sort(arr) # arr massivning tartiblangan versiyasi\n",
        "sorted_arr"
      ],
      "metadata": {
        "colab": {
          "base_uri": "https://localhost:8080/"
        },
        "id": "44hj59XuAAyV",
        "outputId": "29b23b44-545e-4ae1-98e8-e1cc00557dad"
      },
      "execution_count": 21,
      "outputs": [
        {
          "output_type": "execute_result",
          "data": {
            "text/plain": [
              "array([0.31169484, 0.60677123, 0.69256857, 0.71700788])"
            ]
          },
          "metadata": {},
          "execution_count": 21
        }
      ]
    },
    {
      "cell_type": "code",
      "source": [
        "# 2 usul\n",
        "arr.sort() # arr -ning tartiblangan ko'rinishi\n",
        "arr"
      ],
      "metadata": {
        "colab": {
          "base_uri": "https://localhost:8080/"
        },
        "id": "Aa3JvQyzAixC",
        "outputId": "c998190a-59d6-42a8-b210-42e4c1e8eb6b"
      },
      "execution_count": 23,
      "outputs": [
        {
          "output_type": "execute_result",
          "data": {
            "text/plain": [
              "array([0.31169484, 0.60677123, 0.69256857, 0.71700788])"
            ]
          },
          "metadata": {},
          "execution_count": 23
        }
      ]
    },
    {
      "cell_type": "code",
      "source": [
        "# teskari tartiblash]\n",
        "rev_arr = -np.sort(-arr) # teskari tartibdagi arr\n",
        "rev_arr"
      ],
      "metadata": {
        "colab": {
          "base_uri": "https://localhost:8080/"
        },
        "id": "Hd7ICKWMAkPX",
        "outputId": "ba2ebf99-3e5d-4d54-917e-2c927cdc9d52"
      },
      "execution_count": 26,
      "outputs": [
        {
          "output_type": "execute_result",
          "data": {
            "text/plain": [
              "array([0.71700788, 0.69256857, 0.60677123, 0.31169484])"
            ]
          },
          "metadata": {},
          "execution_count": 26
        }
      ]
    },
    {
      "cell_type": "code",
      "source": [
        "# 2 D array (massiv)\n",
        "arr2d = np.random.rand(2, 4) # (2, 4) random massiv\n",
        "arr2d"
      ],
      "metadata": {
        "colab": {
          "base_uri": "https://localhost:8080/"
        },
        "id": "ZY94gczsA_rD",
        "outputId": "9dc69b66-bfe4-4125-d5ae-7ff57004109a"
      },
      "execution_count": 27,
      "outputs": [
        {
          "output_type": "execute_result",
          "data": {
            "text/plain": [
              "array([[0.53918399, 0.50469323, 0.1082719 , 0.44984392],\n",
              "       [0.33435207, 0.45803609, 0.99578917, 0.56074576]])"
            ]
          },
          "metadata": {},
          "execution_count": 27
        }
      ]
    },
    {
      "cell_type": "code",
      "source": [
        "# axis = 0 --> Qator\n",
        "row_srt = np.sort(arr2d, axis=0) # arr2d xar bir qator bo'yicha tartiblangan ko'rinishi\n",
        "row_srt"
      ],
      "metadata": {
        "colab": {
          "base_uri": "https://localhost:8080/"
        },
        "id": "luWuwhbxBbIs",
        "outputId": "fcaf6609-26a9-48bc-c283-e11b39182a92"
      },
      "execution_count": 29,
      "outputs": [
        {
          "output_type": "execute_result",
          "data": {
            "text/plain": [
              "array([[0.33435207, 0.45803609, 0.1082719 , 0.44984392],\n",
              "       [0.53918399, 0.50469323, 0.99578917, 0.56074576]])"
            ]
          },
          "metadata": {},
          "execution_count": 29
        }
      ]
    },
    {
      "cell_type": "code",
      "source": [
        "# axis = 1 --> Ustun\n",
        "col_srt = np.sort(arr2d, axis=1) # arr2d xar bir ustun bo'yicha tartiblangan\n",
        "col_srt"
      ],
      "metadata": {
        "colab": {
          "base_uri": "https://localhost:8080/"
        },
        "id": "CHLpwzXQBwOk",
        "outputId": "d68fc265-32c4-4c59-d815-703062a44806"
      },
      "execution_count": 30,
      "outputs": [
        {
          "output_type": "execute_result",
          "data": {
            "text/plain": [
              "array([[0.1082719 , 0.44984392, 0.50469323, 0.53918399],\n",
              "       [0.33435207, 0.45803609, 0.56074576, 0.99578917]])"
            ]
          },
          "metadata": {},
          "execution_count": 30
        }
      ]
    }
  ]
}